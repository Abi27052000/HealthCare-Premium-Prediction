{
 "cells": [
  {
   "cell_type": "markdown",
   "id": "ebb18594",
   "metadata": {},
   "source": [
    "\n",
    "<h2 style=\"text-align: center;\">Importing Libraries</h2>\n"
   ]
  },
  {
   "cell_type": "code",
   "execution_count": 2,
   "id": "d564d832",
   "metadata": {},
   "outputs": [],
   "source": [
    "import pandas as pd\n",
    "import numpy as np\n",
    "from matplotlib import pyplot as plt\n",
    "import seaborn as sns\n",
    "from sklearn.linear_model import LinearRegression, Ridge, Lasso\n",
    "from sklearn.metrics import r2_score, mean_squared_error, mean_absolute_error\n",
    "# from statsmodels.stats.outliers_influence import variance_inflation_factor\n",
    "from sklearn.model_selection import train_test_split, cross_val_score\n",
    "from sklearn.model_selection import GridSearchCV, RandomizedSearchCV, train_test_split"
   ]
  },
  {
   "cell_type": "markdown",
   "id": "65cd86d5",
   "metadata": {},
   "source": [
    "<h2 style=\"text-align: center;\">Data Loading</h2>"
   ]
  },
  {
   "cell_type": "code",
   "execution_count": 3,
   "id": "576ef5ba",
   "metadata": {},
   "outputs": [
    {
     "data": {
      "text/html": [
       "<div>\n",
       "<style scoped>\n",
       "    .dataframe tbody tr th:only-of-type {\n",
       "        vertical-align: middle;\n",
       "    }\n",
       "\n",
       "    .dataframe tbody tr th {\n",
       "        vertical-align: top;\n",
       "    }\n",
       "\n",
       "    .dataframe thead th {\n",
       "        text-align: right;\n",
       "    }\n",
       "</style>\n",
       "<table border=\"1\" class=\"dataframe\">\n",
       "  <thead>\n",
       "    <tr style=\"text-align: right;\">\n",
       "      <th></th>\n",
       "      <th>Age</th>\n",
       "      <th>Gender</th>\n",
       "      <th>Region</th>\n",
       "      <th>Marital_status</th>\n",
       "      <th>Number Of Dependants</th>\n",
       "      <th>BMI_Category</th>\n",
       "      <th>Smoking_Status</th>\n",
       "      <th>Employment_Status</th>\n",
       "      <th>Income_Level</th>\n",
       "      <th>Income_Lakhs</th>\n",
       "      <th>Medical History</th>\n",
       "      <th>Insurance_Plan</th>\n",
       "      <th>Annual_Premium_Amount</th>\n",
       "    </tr>\n",
       "  </thead>\n",
       "  <tbody>\n",
       "    <tr>\n",
       "      <th>0</th>\n",
       "      <td>26</td>\n",
       "      <td>Male</td>\n",
       "      <td>Northwest</td>\n",
       "      <td>Unmarried</td>\n",
       "      <td>0</td>\n",
       "      <td>Normal</td>\n",
       "      <td>No Smoking</td>\n",
       "      <td>Salaried</td>\n",
       "      <td>&lt;10L</td>\n",
       "      <td>6</td>\n",
       "      <td>Diabetes</td>\n",
       "      <td>Bronze</td>\n",
       "      <td>9053</td>\n",
       "    </tr>\n",
       "    <tr>\n",
       "      <th>1</th>\n",
       "      <td>29</td>\n",
       "      <td>Female</td>\n",
       "      <td>Southeast</td>\n",
       "      <td>Married</td>\n",
       "      <td>2</td>\n",
       "      <td>Obesity</td>\n",
       "      <td>Regular</td>\n",
       "      <td>Salaried</td>\n",
       "      <td>&lt;10L</td>\n",
       "      <td>6</td>\n",
       "      <td>Diabetes</td>\n",
       "      <td>Bronze</td>\n",
       "      <td>16339</td>\n",
       "    </tr>\n",
       "    <tr>\n",
       "      <th>2</th>\n",
       "      <td>49</td>\n",
       "      <td>Female</td>\n",
       "      <td>Northeast</td>\n",
       "      <td>Married</td>\n",
       "      <td>2</td>\n",
       "      <td>Normal</td>\n",
       "      <td>No Smoking</td>\n",
       "      <td>Self-Employed</td>\n",
       "      <td>10L - 25L</td>\n",
       "      <td>20</td>\n",
       "      <td>High blood pressure</td>\n",
       "      <td>Silver</td>\n",
       "      <td>18164</td>\n",
       "    </tr>\n",
       "  </tbody>\n",
       "</table>\n",
       "</div>"
      ],
      "text/plain": [
       "   Age  Gender     Region Marital_status  Number Of Dependants BMI_Category  \\\n",
       "0   26    Male  Northwest      Unmarried                     0       Normal   \n",
       "1   29  Female  Southeast        Married                     2      Obesity   \n",
       "2   49  Female  Northeast        Married                     2       Normal   \n",
       "\n",
       "  Smoking_Status Employment_Status Income_Level  Income_Lakhs  \\\n",
       "0     No Smoking          Salaried         <10L             6   \n",
       "1        Regular          Salaried         <10L             6   \n",
       "2     No Smoking     Self-Employed    10L - 25L            20   \n",
       "\n",
       "       Medical History Insurance_Plan  Annual_Premium_Amount  \n",
       "0             Diabetes         Bronze                   9053  \n",
       "1             Diabetes         Bronze                  16339  \n",
       "2  High blood pressure         Silver                  18164  "
      ]
     },
     "execution_count": 3,
     "metadata": {},
     "output_type": "execute_result"
    }
   ],
   "source": [
    "df = pd.read_excel(\"premiums.xlsx\")\n",
    "df.head(3)"
   ]
  },
  {
   "cell_type": "code",
   "execution_count": 4,
   "id": "edd030e6",
   "metadata": {},
   "outputs": [
    {
     "data": {
      "text/plain": [
       "(50000, 13)"
      ]
     },
     "execution_count": 4,
     "metadata": {},
     "output_type": "execute_result"
    }
   ],
   "source": [
    "df.shape"
   ]
  },
  {
   "cell_type": "code",
   "execution_count": 5,
   "id": "cad6d7a3",
   "metadata": {},
   "outputs": [
    {
     "data": {
      "text/html": [
       "<div>\n",
       "<style scoped>\n",
       "    .dataframe tbody tr th:only-of-type {\n",
       "        vertical-align: middle;\n",
       "    }\n",
       "\n",
       "    .dataframe tbody tr th {\n",
       "        vertical-align: top;\n",
       "    }\n",
       "\n",
       "    .dataframe thead th {\n",
       "        text-align: right;\n",
       "    }\n",
       "</style>\n",
       "<table border=\"1\" class=\"dataframe\">\n",
       "  <thead>\n",
       "    <tr style=\"text-align: right;\">\n",
       "      <th></th>\n",
       "      <th>age</th>\n",
       "      <th>gender</th>\n",
       "      <th>region</th>\n",
       "      <th>marital_status</th>\n",
       "      <th>number_of_dependants</th>\n",
       "      <th>bmi_category</th>\n",
       "      <th>smoking_status</th>\n",
       "      <th>employment_status</th>\n",
       "      <th>income_level</th>\n",
       "      <th>income_lakhs</th>\n",
       "      <th>medical_history</th>\n",
       "      <th>insurance_plan</th>\n",
       "      <th>annual_premium_amount</th>\n",
       "    </tr>\n",
       "  </thead>\n",
       "  <tbody>\n",
       "    <tr>\n",
       "      <th>0</th>\n",
       "      <td>26</td>\n",
       "      <td>Male</td>\n",
       "      <td>Northwest</td>\n",
       "      <td>Unmarried</td>\n",
       "      <td>0</td>\n",
       "      <td>Normal</td>\n",
       "      <td>No Smoking</td>\n",
       "      <td>Salaried</td>\n",
       "      <td>&lt;10L</td>\n",
       "      <td>6</td>\n",
       "      <td>Diabetes</td>\n",
       "      <td>Bronze</td>\n",
       "      <td>9053</td>\n",
       "    </tr>\n",
       "    <tr>\n",
       "      <th>1</th>\n",
       "      <td>29</td>\n",
       "      <td>Female</td>\n",
       "      <td>Southeast</td>\n",
       "      <td>Married</td>\n",
       "      <td>2</td>\n",
       "      <td>Obesity</td>\n",
       "      <td>Regular</td>\n",
       "      <td>Salaried</td>\n",
       "      <td>&lt;10L</td>\n",
       "      <td>6</td>\n",
       "      <td>Diabetes</td>\n",
       "      <td>Bronze</td>\n",
       "      <td>16339</td>\n",
       "    </tr>\n",
       "    <tr>\n",
       "      <th>2</th>\n",
       "      <td>49</td>\n",
       "      <td>Female</td>\n",
       "      <td>Northeast</td>\n",
       "      <td>Married</td>\n",
       "      <td>2</td>\n",
       "      <td>Normal</td>\n",
       "      <td>No Smoking</td>\n",
       "      <td>Self-Employed</td>\n",
       "      <td>10L - 25L</td>\n",
       "      <td>20</td>\n",
       "      <td>High blood pressure</td>\n",
       "      <td>Silver</td>\n",
       "      <td>18164</td>\n",
       "    </tr>\n",
       "  </tbody>\n",
       "</table>\n",
       "</div>"
      ],
      "text/plain": [
       "   age  gender     region marital_status  number_of_dependants bmi_category  \\\n",
       "0   26    Male  Northwest      Unmarried                     0       Normal   \n",
       "1   29  Female  Southeast        Married                     2      Obesity   \n",
       "2   49  Female  Northeast        Married                     2       Normal   \n",
       "\n",
       "  smoking_status employment_status income_level  income_lakhs  \\\n",
       "0     No Smoking          Salaried         <10L             6   \n",
       "1        Regular          Salaried         <10L             6   \n",
       "2     No Smoking     Self-Employed    10L - 25L            20   \n",
       "\n",
       "       medical_history insurance_plan  annual_premium_amount  \n",
       "0             Diabetes         Bronze                   9053  \n",
       "1             Diabetes         Bronze                  16339  \n",
       "2  High blood pressure         Silver                  18164  "
      ]
     },
     "execution_count": 5,
     "metadata": {},
     "output_type": "execute_result"
    }
   ],
   "source": [
    "df.columns = df.columns.str.replace(\" \",\"_\").str.lower()\n",
    "df.head(3)"
   ]
  },
  {
   "cell_type": "markdown",
   "id": "3ef33a6f",
   "metadata": {},
   "source": [
    "<h2 style=\"text-align: center;\">Exploratory Data Analysis & Data Cleaning</h2>"
   ]
  },
  {
   "cell_type": "code",
   "execution_count": 6,
   "id": "72bed9c8",
   "metadata": {},
   "outputs": [
    {
     "data": {
      "text/plain": [
       "age                       0\n",
       "gender                    0\n",
       "region                    0\n",
       "marital_status            0\n",
       "number_of_dependants      0\n",
       "bmi_category              0\n",
       "smoking_status           11\n",
       "employment_status         2\n",
       "income_level             13\n",
       "income_lakhs              0\n",
       "medical_history           0\n",
       "insurance_plan            0\n",
       "annual_premium_amount     0\n",
       "dtype: int64"
      ]
     },
     "execution_count": 6,
     "metadata": {},
     "output_type": "execute_result"
    }
   ],
   "source": [
    "df.isna().sum()"
   ]
  },
  {
   "cell_type": "code",
   "execution_count": 7,
   "id": "ff6be9b7",
   "metadata": {},
   "outputs": [
    {
     "data": {
      "text/plain": [
       "age                      0\n",
       "gender                   0\n",
       "region                   0\n",
       "marital_status           0\n",
       "number_of_dependants     0\n",
       "bmi_category             0\n",
       "smoking_status           0\n",
       "employment_status        0\n",
       "income_level             0\n",
       "income_lakhs             0\n",
       "medical_history          0\n",
       "insurance_plan           0\n",
       "annual_premium_amount    0\n",
       "dtype: int64"
      ]
     },
     "execution_count": 7,
     "metadata": {},
     "output_type": "execute_result"
    }
   ],
   "source": [
    "df.dropna(inplace=True)\n",
    "df.isna().sum()\n"
   ]
  },
  {
   "cell_type": "code",
   "execution_count": 8,
   "id": "ff8b7660",
   "metadata": {},
   "outputs": [
    {
     "data": {
      "text/plain": [
       "(49976, 13)"
      ]
     },
     "execution_count": 8,
     "metadata": {},
     "output_type": "execute_result"
    }
   ],
   "source": [
    "df.shape"
   ]
  },
  {
   "cell_type": "markdown",
   "id": "f37a1514",
   "metadata": {},
   "source": [
    "#### Handle Duplicates"
   ]
  },
  {
   "cell_type": "code",
   "execution_count": 9,
   "id": "1786aa11",
   "metadata": {},
   "outputs": [
    {
     "data": {
      "text/plain": [
       "np.int64(0)"
      ]
     },
     "execution_count": 9,
     "metadata": {},
     "output_type": "execute_result"
    }
   ],
   "source": [
    "df.duplicated().sum()\n"
   ]
  },
  {
   "cell_type": "code",
   "execution_count": 10,
   "id": "4d92d190",
   "metadata": {},
   "outputs": [
    {
     "data": {
      "text/plain": [
       "np.int64(0)"
      ]
     },
     "execution_count": 10,
     "metadata": {},
     "output_type": "execute_result"
    }
   ],
   "source": [
    "df.drop_duplicates(inplace=True)\n",
    "df.duplicated().sum()"
   ]
  },
  {
   "cell_type": "code",
   "execution_count": 11,
   "id": "89763f97",
   "metadata": {},
   "outputs": [
    {
     "data": {
      "text/html": [
       "<div>\n",
       "<style scoped>\n",
       "    .dataframe tbody tr th:only-of-type {\n",
       "        vertical-align: middle;\n",
       "    }\n",
       "\n",
       "    .dataframe tbody tr th {\n",
       "        vertical-align: top;\n",
       "    }\n",
       "\n",
       "    .dataframe thead th {\n",
       "        text-align: right;\n",
       "    }\n",
       "</style>\n",
       "<table border=\"1\" class=\"dataframe\">\n",
       "  <thead>\n",
       "    <tr style=\"text-align: right;\">\n",
       "      <th></th>\n",
       "      <th>age</th>\n",
       "      <th>number_of_dependants</th>\n",
       "      <th>income_lakhs</th>\n",
       "      <th>annual_premium_amount</th>\n",
       "    </tr>\n",
       "  </thead>\n",
       "  <tbody>\n",
       "    <tr>\n",
       "      <th>count</th>\n",
       "      <td>49976.000000</td>\n",
       "      <td>49976.000000</td>\n",
       "      <td>49976.000000</td>\n",
       "      <td>49976.000000</td>\n",
       "    </tr>\n",
       "    <tr>\n",
       "      <th>mean</th>\n",
       "      <td>34.591764</td>\n",
       "      <td>1.711842</td>\n",
       "      <td>23.021150</td>\n",
       "      <td>15766.810189</td>\n",
       "    </tr>\n",
       "    <tr>\n",
       "      <th>std</th>\n",
       "      <td>15.000378</td>\n",
       "      <td>1.498195</td>\n",
       "      <td>24.221794</td>\n",
       "      <td>8419.995271</td>\n",
       "    </tr>\n",
       "    <tr>\n",
       "      <th>min</th>\n",
       "      <td>18.000000</td>\n",
       "      <td>-3.000000</td>\n",
       "      <td>1.000000</td>\n",
       "      <td>3501.000000</td>\n",
       "    </tr>\n",
       "    <tr>\n",
       "      <th>25%</th>\n",
       "      <td>22.000000</td>\n",
       "      <td>0.000000</td>\n",
       "      <td>7.000000</td>\n",
       "      <td>8607.750000</td>\n",
       "    </tr>\n",
       "    <tr>\n",
       "      <th>50%</th>\n",
       "      <td>31.000000</td>\n",
       "      <td>2.000000</td>\n",
       "      <td>17.000000</td>\n",
       "      <td>13928.000000</td>\n",
       "    </tr>\n",
       "    <tr>\n",
       "      <th>75%</th>\n",
       "      <td>45.000000</td>\n",
       "      <td>3.000000</td>\n",
       "      <td>31.000000</td>\n",
       "      <td>22273.500000</td>\n",
       "    </tr>\n",
       "    <tr>\n",
       "      <th>max</th>\n",
       "      <td>356.000000</td>\n",
       "      <td>5.000000</td>\n",
       "      <td>930.000000</td>\n",
       "      <td>43471.000000</td>\n",
       "    </tr>\n",
       "  </tbody>\n",
       "</table>\n",
       "</div>"
      ],
      "text/plain": [
       "                age  number_of_dependants  income_lakhs  annual_premium_amount\n",
       "count  49976.000000          49976.000000  49976.000000           49976.000000\n",
       "mean      34.591764              1.711842     23.021150           15766.810189\n",
       "std       15.000378              1.498195     24.221794            8419.995271\n",
       "min       18.000000             -3.000000      1.000000            3501.000000\n",
       "25%       22.000000              0.000000      7.000000            8607.750000\n",
       "50%       31.000000              2.000000     17.000000           13928.000000\n",
       "75%       45.000000              3.000000     31.000000           22273.500000\n",
       "max      356.000000              5.000000    930.000000           43471.000000"
      ]
     },
     "execution_count": 11,
     "metadata": {},
     "output_type": "execute_result"
    }
   ],
   "source": [
    "df.describe()"
   ]
  },
  {
   "cell_type": "markdown",
   "id": "69b532ca",
   "metadata": {},
   "source": [
    "#### Data Cleaning: number_of_dependants"
   ]
  },
  {
   "cell_type": "code",
   "execution_count": 12,
   "id": "c18876b5",
   "metadata": {},
   "outputs": [
    {
     "data": {
      "text/html": [
       "<div>\n",
       "<style scoped>\n",
       "    .dataframe tbody tr th:only-of-type {\n",
       "        vertical-align: middle;\n",
       "    }\n",
       "\n",
       "    .dataframe tbody tr th {\n",
       "        vertical-align: top;\n",
       "    }\n",
       "\n",
       "    .dataframe thead th {\n",
       "        text-align: right;\n",
       "    }\n",
       "</style>\n",
       "<table border=\"1\" class=\"dataframe\">\n",
       "  <thead>\n",
       "    <tr style=\"text-align: right;\">\n",
       "      <th></th>\n",
       "      <th>age</th>\n",
       "      <th>gender</th>\n",
       "      <th>region</th>\n",
       "      <th>marital_status</th>\n",
       "      <th>number_of_dependants</th>\n",
       "      <th>bmi_category</th>\n",
       "      <th>smoking_status</th>\n",
       "      <th>employment_status</th>\n",
       "      <th>income_level</th>\n",
       "      <th>income_lakhs</th>\n",
       "      <th>medical_history</th>\n",
       "      <th>insurance_plan</th>\n",
       "      <th>annual_premium_amount</th>\n",
       "    </tr>\n",
       "  </thead>\n",
       "  <tbody>\n",
       "    <tr>\n",
       "      <th>402</th>\n",
       "      <td>23</td>\n",
       "      <td>Female</td>\n",
       "      <td>Southwest</td>\n",
       "      <td>Unmarried</td>\n",
       "      <td>-3</td>\n",
       "      <td>Underweight</td>\n",
       "      <td>No Smoking</td>\n",
       "      <td>Freelancer</td>\n",
       "      <td>10L - 25L</td>\n",
       "      <td>18</td>\n",
       "      <td>No Disease</td>\n",
       "      <td>Silver</td>\n",
       "      <td>9309</td>\n",
       "    </tr>\n",
       "    <tr>\n",
       "      <th>2245</th>\n",
       "      <td>18</td>\n",
       "      <td>Male</td>\n",
       "      <td>Southwest</td>\n",
       "      <td>Unmarried</td>\n",
       "      <td>-3</td>\n",
       "      <td>Overweight</td>\n",
       "      <td>No Smoking</td>\n",
       "      <td>Freelancer</td>\n",
       "      <td>25L - 40L</td>\n",
       "      <td>28</td>\n",
       "      <td>No Disease</td>\n",
       "      <td>Silver</td>\n",
       "      <td>8095</td>\n",
       "    </tr>\n",
       "    <tr>\n",
       "      <th>2323</th>\n",
       "      <td>19</td>\n",
       "      <td>Male</td>\n",
       "      <td>Northwest</td>\n",
       "      <td>Unmarried</td>\n",
       "      <td>-3</td>\n",
       "      <td>Underweight</td>\n",
       "      <td>No Smoking</td>\n",
       "      <td>Freelancer</td>\n",
       "      <td>25L - 40L</td>\n",
       "      <td>40</td>\n",
       "      <td>No Disease</td>\n",
       "      <td>Bronze</td>\n",
       "      <td>4641</td>\n",
       "    </tr>\n",
       "    <tr>\n",
       "      <th>2986</th>\n",
       "      <td>34</td>\n",
       "      <td>Female</td>\n",
       "      <td>Southeast</td>\n",
       "      <td>Married</td>\n",
       "      <td>-1</td>\n",
       "      <td>Underweight</td>\n",
       "      <td>Regular</td>\n",
       "      <td>Self-Employed</td>\n",
       "      <td>25L - 40L</td>\n",
       "      <td>35</td>\n",
       "      <td>High blood pressure &amp; Heart disease</td>\n",
       "      <td>Silver</td>\n",
       "      <td>22995</td>\n",
       "    </tr>\n",
       "    <tr>\n",
       "      <th>3756</th>\n",
       "      <td>41</td>\n",
       "      <td>Male</td>\n",
       "      <td>Southwest</td>\n",
       "      <td>Married</td>\n",
       "      <td>-1</td>\n",
       "      <td>Obesity</td>\n",
       "      <td>Regular</td>\n",
       "      <td>Salaried</td>\n",
       "      <td>10L - 25L</td>\n",
       "      <td>21</td>\n",
       "      <td>Diabetes</td>\n",
       "      <td>Silver</td>\n",
       "      <td>22766</td>\n",
       "    </tr>\n",
       "    <tr>\n",
       "      <th>...</th>\n",
       "      <td>...</td>\n",
       "      <td>...</td>\n",
       "      <td>...</td>\n",
       "      <td>...</td>\n",
       "      <td>...</td>\n",
       "      <td>...</td>\n",
       "      <td>...</td>\n",
       "      <td>...</td>\n",
       "      <td>...</td>\n",
       "      <td>...</td>\n",
       "      <td>...</td>\n",
       "      <td>...</td>\n",
       "      <td>...</td>\n",
       "    </tr>\n",
       "    <tr>\n",
       "      <th>48062</th>\n",
       "      <td>23</td>\n",
       "      <td>Male</td>\n",
       "      <td>Northwest</td>\n",
       "      <td>Unmarried</td>\n",
       "      <td>-1</td>\n",
       "      <td>Normal</td>\n",
       "      <td>No Smoking</td>\n",
       "      <td>Freelancer</td>\n",
       "      <td>&gt; 40L</td>\n",
       "      <td>54</td>\n",
       "      <td>No Disease</td>\n",
       "      <td>Gold</td>\n",
       "      <td>13601</td>\n",
       "    </tr>\n",
       "    <tr>\n",
       "      <th>48086</th>\n",
       "      <td>36</td>\n",
       "      <td>Female</td>\n",
       "      <td>Southwest</td>\n",
       "      <td>Married</td>\n",
       "      <td>-1</td>\n",
       "      <td>Obesity</td>\n",
       "      <td>Occasional</td>\n",
       "      <td>Salaried</td>\n",
       "      <td>&lt;10L</td>\n",
       "      <td>3</td>\n",
       "      <td>Diabetes</td>\n",
       "      <td>Bronze</td>\n",
       "      <td>14422</td>\n",
       "    </tr>\n",
       "    <tr>\n",
       "      <th>49256</th>\n",
       "      <td>60</td>\n",
       "      <td>Female</td>\n",
       "      <td>Southwest</td>\n",
       "      <td>Married</td>\n",
       "      <td>-1</td>\n",
       "      <td>Normal</td>\n",
       "      <td>No Smoking</td>\n",
       "      <td>Self-Employed</td>\n",
       "      <td>10L - 25L</td>\n",
       "      <td>21</td>\n",
       "      <td>Thyroid</td>\n",
       "      <td>Bronze</td>\n",
       "      <td>10141</td>\n",
       "    </tr>\n",
       "    <tr>\n",
       "      <th>49270</th>\n",
       "      <td>34</td>\n",
       "      <td>Male</td>\n",
       "      <td>Southeast</td>\n",
       "      <td>Married</td>\n",
       "      <td>-1</td>\n",
       "      <td>Obesity</td>\n",
       "      <td>No Smoking</td>\n",
       "      <td>Self-Employed</td>\n",
       "      <td>10L - 25L</td>\n",
       "      <td>17</td>\n",
       "      <td>Diabetes &amp; Thyroid</td>\n",
       "      <td>Silver</td>\n",
       "      <td>21816</td>\n",
       "    </tr>\n",
       "    <tr>\n",
       "      <th>49523</th>\n",
       "      <td>51</td>\n",
       "      <td>Female</td>\n",
       "      <td>Northeast</td>\n",
       "      <td>Married</td>\n",
       "      <td>-1</td>\n",
       "      <td>Overweight</td>\n",
       "      <td>No Smoking</td>\n",
       "      <td>Self-Employed</td>\n",
       "      <td>&lt;10L</td>\n",
       "      <td>5</td>\n",
       "      <td>Diabetes &amp; High blood pressure</td>\n",
       "      <td>Silver</td>\n",
       "      <td>22497</td>\n",
       "    </tr>\n",
       "  </tbody>\n",
       "</table>\n",
       "<p>72 rows × 13 columns</p>\n",
       "</div>"
      ],
      "text/plain": [
       "       age  gender     region marital_status  number_of_dependants  \\\n",
       "402     23  Female  Southwest      Unmarried                    -3   \n",
       "2245    18    Male  Southwest      Unmarried                    -3   \n",
       "2323    19    Male  Northwest      Unmarried                    -3   \n",
       "2986    34  Female  Southeast        Married                    -1   \n",
       "3756    41    Male  Southwest        Married                    -1   \n",
       "...    ...     ...        ...            ...                   ...   \n",
       "48062   23    Male  Northwest      Unmarried                    -1   \n",
       "48086   36  Female  Southwest        Married                    -1   \n",
       "49256   60  Female  Southwest        Married                    -1   \n",
       "49270   34    Male  Southeast        Married                    -1   \n",
       "49523   51  Female  Northeast        Married                    -1   \n",
       "\n",
       "      bmi_category smoking_status employment_status income_level  \\\n",
       "402    Underweight     No Smoking        Freelancer    10L - 25L   \n",
       "2245    Overweight     No Smoking        Freelancer    25L - 40L   \n",
       "2323   Underweight     No Smoking        Freelancer    25L - 40L   \n",
       "2986   Underweight        Regular     Self-Employed    25L - 40L   \n",
       "3756       Obesity        Regular          Salaried    10L - 25L   \n",
       "...            ...            ...               ...          ...   \n",
       "48062       Normal     No Smoking        Freelancer        > 40L   \n",
       "48086      Obesity     Occasional          Salaried         <10L   \n",
       "49256       Normal     No Smoking     Self-Employed    10L - 25L   \n",
       "49270      Obesity     No Smoking     Self-Employed    10L - 25L   \n",
       "49523   Overweight     No Smoking     Self-Employed         <10L   \n",
       "\n",
       "       income_lakhs                      medical_history insurance_plan  \\\n",
       "402              18                           No Disease         Silver   \n",
       "2245             28                           No Disease         Silver   \n",
       "2323             40                           No Disease         Bronze   \n",
       "2986             35  High blood pressure & Heart disease         Silver   \n",
       "3756             21                             Diabetes         Silver   \n",
       "...             ...                                  ...            ...   \n",
       "48062            54                           No Disease           Gold   \n",
       "48086             3                             Diabetes         Bronze   \n",
       "49256            21                              Thyroid         Bronze   \n",
       "49270            17                   Diabetes & Thyroid         Silver   \n",
       "49523             5       Diabetes & High blood pressure         Silver   \n",
       "\n",
       "       annual_premium_amount  \n",
       "402                     9309  \n",
       "2245                    8095  \n",
       "2323                    4641  \n",
       "2986                   22995  \n",
       "3756                   22766  \n",
       "...                      ...  \n",
       "48062                  13601  \n",
       "48086                  14422  \n",
       "49256                  10141  \n",
       "49270                  21816  \n",
       "49523                  22497  \n",
       "\n",
       "[72 rows x 13 columns]"
      ]
     },
     "execution_count": 12,
     "metadata": {},
     "output_type": "execute_result"
    }
   ],
   "source": [
    "df[df['number_of_dependants'] < 0]"
   ]
  },
  {
   "cell_type": "code",
   "execution_count": 13,
   "id": "5b7c9b20",
   "metadata": {},
   "outputs": [
    {
     "data": {
      "text/plain": [
       "array([-3, -1])"
      ]
     },
     "execution_count": 13,
     "metadata": {},
     "output_type": "execute_result"
    }
   ],
   "source": [
    "df[df['number_of_dependants'] < 0]['number_of_dependants'].unique()\n"
   ]
  },
  {
   "cell_type": "code",
   "execution_count": 14,
   "id": "b34df312",
   "metadata": {},
   "outputs": [
    {
     "data": {
      "text/plain": [
       "array([], dtype=int64)"
      ]
     },
     "execution_count": 14,
     "metadata": {},
     "output_type": "execute_result"
    }
   ],
   "source": [
    "df['number_of_dependants'] = df['number_of_dependants'].abs()\n",
    "df[df['number_of_dependants'] < 0]['number_of_dependants'].unique()\n"
   ]
  },
  {
   "cell_type": "code",
   "execution_count": 15,
   "id": "a9d93fe3",
   "metadata": {},
   "outputs": [
    {
     "data": {
      "text/html": [
       "<div>\n",
       "<style scoped>\n",
       "    .dataframe tbody tr th:only-of-type {\n",
       "        vertical-align: middle;\n",
       "    }\n",
       "\n",
       "    .dataframe tbody tr th {\n",
       "        vertical-align: top;\n",
       "    }\n",
       "\n",
       "    .dataframe thead th {\n",
       "        text-align: right;\n",
       "    }\n",
       "</style>\n",
       "<table border=\"1\" class=\"dataframe\">\n",
       "  <thead>\n",
       "    <tr style=\"text-align: right;\">\n",
       "      <th></th>\n",
       "      <th>age</th>\n",
       "      <th>number_of_dependants</th>\n",
       "      <th>income_lakhs</th>\n",
       "      <th>annual_premium_amount</th>\n",
       "    </tr>\n",
       "  </thead>\n",
       "  <tbody>\n",
       "    <tr>\n",
       "      <th>count</th>\n",
       "      <td>49976.000000</td>\n",
       "      <td>49976.000000</td>\n",
       "      <td>49976.000000</td>\n",
       "      <td>49976.000000</td>\n",
       "    </tr>\n",
       "    <tr>\n",
       "      <th>mean</th>\n",
       "      <td>34.591764</td>\n",
       "      <td>1.717284</td>\n",
       "      <td>23.021150</td>\n",
       "      <td>15766.810189</td>\n",
       "    </tr>\n",
       "    <tr>\n",
       "      <th>std</th>\n",
       "      <td>15.000378</td>\n",
       "      <td>1.491953</td>\n",
       "      <td>24.221794</td>\n",
       "      <td>8419.995271</td>\n",
       "    </tr>\n",
       "    <tr>\n",
       "      <th>min</th>\n",
       "      <td>18.000000</td>\n",
       "      <td>0.000000</td>\n",
       "      <td>1.000000</td>\n",
       "      <td>3501.000000</td>\n",
       "    </tr>\n",
       "    <tr>\n",
       "      <th>25%</th>\n",
       "      <td>22.000000</td>\n",
       "      <td>0.000000</td>\n",
       "      <td>7.000000</td>\n",
       "      <td>8607.750000</td>\n",
       "    </tr>\n",
       "    <tr>\n",
       "      <th>50%</th>\n",
       "      <td>31.000000</td>\n",
       "      <td>2.000000</td>\n",
       "      <td>17.000000</td>\n",
       "      <td>13928.000000</td>\n",
       "    </tr>\n",
       "    <tr>\n",
       "      <th>75%</th>\n",
       "      <td>45.000000</td>\n",
       "      <td>3.000000</td>\n",
       "      <td>31.000000</td>\n",
       "      <td>22273.500000</td>\n",
       "    </tr>\n",
       "    <tr>\n",
       "      <th>max</th>\n",
       "      <td>356.000000</td>\n",
       "      <td>5.000000</td>\n",
       "      <td>930.000000</td>\n",
       "      <td>43471.000000</td>\n",
       "    </tr>\n",
       "  </tbody>\n",
       "</table>\n",
       "</div>"
      ],
      "text/plain": [
       "                age  number_of_dependants  income_lakhs  annual_premium_amount\n",
       "count  49976.000000          49976.000000  49976.000000           49976.000000\n",
       "mean      34.591764              1.717284     23.021150           15766.810189\n",
       "std       15.000378              1.491953     24.221794            8419.995271\n",
       "min       18.000000              0.000000      1.000000            3501.000000\n",
       "25%       22.000000              0.000000      7.000000            8607.750000\n",
       "50%       31.000000              2.000000     17.000000           13928.000000\n",
       "75%       45.000000              3.000000     31.000000           22273.500000\n",
       "max      356.000000              5.000000    930.000000           43471.000000"
      ]
     },
     "execution_count": 15,
     "metadata": {},
     "output_type": "execute_result"
    }
   ],
   "source": [
    "df.describe()"
   ]
  },
  {
   "cell_type": "markdown",
   "id": "9c566cd0",
   "metadata": {},
   "source": [
    "#### Box plots for numeric columns"
   ]
  },
  {
   "cell_type": "code",
   "execution_count": 16,
   "id": "af206c74",
   "metadata": {},
   "outputs": [
    {
     "data": {
      "text/plain": [
       "Index(['age', 'number_of_dependants', 'income_lakhs', 'annual_premium_amount'], dtype='object')"
      ]
     },
     "execution_count": 16,
     "metadata": {},
     "output_type": "execute_result"
    }
   ],
   "source": [
    "numeric_columns = df.select_dtypes(include=['float64', 'int64']).columns\n",
    "numeric_columns  "
   ]
  },
  {
   "cell_type": "code",
   "execution_count": 17,
   "id": "fdc46733",
   "metadata": {},
   "outputs": [
    {
     "data": {
      "image/png": "[encoded data removed]",
      "text/plain": [
       "<Figure size 640x480 with 1 Axes>"
      ]
     },
     "metadata": {},
     "output_type": "display_data"
    },
    {
     "data": {
      "image/png": "[encoded data removed]",
      "text/plain": [
       "<Figure size 640x480 with 1 Axes>"
      ]
     },
     "metadata": {},
     "output_type": "display_data"
    },
    {
     "data": {
      "image/png": "[encoded data removed]",
      "text/plain": [
       "<Figure size 640x480 with 1 Axes>"
      ]
     },
     "metadata": {},
     "output_type": "display_data"
    },
    {
     "data": {
      "image/png": "[encoded data removed]",
      "text/plain": [
       "<Figure size 640x480 with 1 Axes>"
      ]
     },
     "metadata": {},
     "output_type": "display_data"
    }
   ],
   "source": [
    "for col in numeric_columns:\n",
    "    sns.boxplot(x=df[col])\n",
    "    plt.show()"
   ]
  },
  {
   "cell_type": "markdown",
   "id": "895f2a18",
   "metadata": {},
   "source": [
    "### Outlier Treatment: Age Column"
   ]
  },
  {
   "cell_type": "code",
   "execution_count": 18,
   "id": "5db03563",
   "metadata": {},
   "outputs": [
    {
     "data": {
      "text/plain": [
       "array([224, 124, 136, 203, 356])"
      ]
     },
     "execution_count": 18,
     "metadata": {},
     "output_type": "execute_result"
    }
   ],
   "source": [
    "df[df['age']>100]['age'].unique()"
   ]
  },
  {
   "cell_type": "code",
   "execution_count": 19,
   "id": "3ea329ed",
   "metadata": {},
   "outputs": [
    {
     "data": {
      "text/plain": [
       "count    49918.000000\n",
       "mean        34.401839\n",
       "std         13.681600\n",
       "min         18.000000\n",
       "25%         22.000000\n",
       "50%         31.000000\n",
       "75%         45.000000\n",
       "max         72.000000\n",
       "Name: age, dtype: float64"
      ]
     },
     "execution_count": 19,
     "metadata": {},
     "output_type": "execute_result"
    }
   ],
   "source": [
    "df1 = df[df.age<=100]\n",
    "df1.age.describe()"
   ]
  },
  {
   "cell_type": "code",
   "execution_count": 20,
   "id": "dd68e5c2",
   "metadata": {},
   "outputs": [
    {
     "data": {
      "text/plain": [
       "(49918, 13)"
      ]
     },
     "execution_count": 20,
     "metadata": {},
     "output_type": "execute_result"
    }
   ],
   "source": [
    "df1.shape"
   ]
  },
  {
   "cell_type": "markdown",
   "id": "fb118d5f",
   "metadata": {},
   "source": [
    "### Outlier Treatment: Income Column"
   ]
  },
  {
   "cell_type": "code",
   "execution_count": 21,
   "id": "3287574c",
   "metadata": {},
   "outputs": [
    {
     "data": {
      "text/plain": [
       "(-29.0, 67.0)"
      ]
     },
     "execution_count": 21,
     "metadata": {},
     "output_type": "execute_result"
    }
   ],
   "source": [
    "def get_iqr_bounds(col):\n",
    "    Q1, Q3 = col.quantile([0.25, 0.75])\n",
    "    IQR = Q3-Q1\n",
    "    lower_bound = Q1 - 1.5 * IQR\n",
    "    upper_bound = Q3 + 1.5 * IQR\n",
    "    return lower_bound, upper_bound\n",
    "\n",
    "lower, upper = get_iqr_bounds(df1['income_lakhs'])\n",
    "lower, upper"
   ]
  },
  {
   "cell_type": "code",
   "execution_count": 22,
   "id": "418886d3",
   "metadata": {},
   "outputs": [
    {
     "data": {
      "text/plain": [
       "(3559, 13)"
      ]
     },
     "execution_count": 22,
     "metadata": {},
     "output_type": "execute_result"
    }
   ],
   "source": [
    "df1[df1.income_lakhs>upper].shape"
   ]
  },
  {
   "cell_type": "code",
   "execution_count": 23,
   "id": "e724572e",
   "metadata": {},
   "outputs": [
    {
     "data": {
      "text/plain": [
       "np.float64(100.0)"
      ]
     },
     "execution_count": 23,
     "metadata": {},
     "output_type": "execute_result"
    }
   ],
   "source": [
    "quantile_thresold = df1.income_lakhs.quantile(0.999)\n",
    "quantile_thresold"
   ]
  },
  {
   "cell_type": "code",
   "execution_count": 24,
   "id": "79b45a28",
   "metadata": {},
   "outputs": [
    {
     "data": {
      "text/plain": [
       "(49908, 13)"
      ]
     },
     "execution_count": 24,
     "metadata": {},
     "output_type": "execute_result"
    }
   ],
   "source": [
    "df2 = df1[df1.income_lakhs<=quantile_thresold].copy()\n",
    "df2.shape"
   ]
  },
  {
   "cell_type": "code",
   "execution_count": 25,
   "id": "9e1ef90a",
   "metadata": {},
   "outputs": [
    {
     "data": {
      "image/png": "[encoded data removed]",
      "text/plain": [
       "<Figure size 1000x800 with 4 Axes>"
      ]
     },
     "metadata": {},
     "output_type": "display_data"
    }
   ],
   "source": [
    "fig, axs = plt.subplots(nrows=2, ncols=2, figsize=(10, 8))  # Adjust the size as necessary\n",
    "\n",
    "for i, column in enumerate(numeric_columns):\n",
    "    ax = axs[i//2, i%2]  # Determines the position of the subplot in the grid\n",
    "    sns.histplot(df2[column], kde=True, ax=ax)\n",
    "    ax.set_title(column)\n",
    "\n",
    "plt.tight_layout()\n",
    "plt.show()"
   ]
  },
  {
   "cell_type": "code",
   "execution_count": 26,
   "id": "485448c8",
   "metadata": {},
   "outputs": [
    {
     "data": {
      "text/html": [
       "<div>\n",
       "<style scoped>\n",
       "    .dataframe tbody tr th:only-of-type {\n",
       "        vertical-align: middle;\n",
       "    }\n",
       "\n",
       "    .dataframe tbody tr th {\n",
       "        vertical-align: top;\n",
       "    }\n",
       "\n",
       "    .dataframe thead th {\n",
       "        text-align: right;\n",
       "    }\n",
       "</style>\n",
       "<table border=\"1\" class=\"dataframe\">\n",
       "  <thead>\n",
       "    <tr style=\"text-align: right;\">\n",
       "      <th></th>\n",
       "      <th>age</th>\n",
       "      <th>gender</th>\n",
       "      <th>region</th>\n",
       "      <th>marital_status</th>\n",
       "      <th>number_of_dependants</th>\n",
       "      <th>bmi_category</th>\n",
       "      <th>smoking_status</th>\n",
       "      <th>employment_status</th>\n",
       "      <th>income_level</th>\n",
       "      <th>income_lakhs</th>\n",
       "      <th>medical_history</th>\n",
       "      <th>insurance_plan</th>\n",
       "      <th>annual_premium_amount</th>\n",
       "    </tr>\n",
       "  </thead>\n",
       "  <tbody>\n",
       "    <tr>\n",
       "      <th>0</th>\n",
       "      <td>26</td>\n",
       "      <td>Male</td>\n",
       "      <td>Northwest</td>\n",
       "      <td>Unmarried</td>\n",
       "      <td>0</td>\n",
       "      <td>Normal</td>\n",
       "      <td>No Smoking</td>\n",
       "      <td>Salaried</td>\n",
       "      <td>&lt;10L</td>\n",
       "      <td>6</td>\n",
       "      <td>Diabetes</td>\n",
       "      <td>Bronze</td>\n",
       "      <td>9053</td>\n",
       "    </tr>\n",
       "    <tr>\n",
       "      <th>1</th>\n",
       "      <td>29</td>\n",
       "      <td>Female</td>\n",
       "      <td>Southeast</td>\n",
       "      <td>Married</td>\n",
       "      <td>2</td>\n",
       "      <td>Obesity</td>\n",
       "      <td>Regular</td>\n",
       "      <td>Salaried</td>\n",
       "      <td>&lt;10L</td>\n",
       "      <td>6</td>\n",
       "      <td>Diabetes</td>\n",
       "      <td>Bronze</td>\n",
       "      <td>16339</td>\n",
       "    </tr>\n",
       "  </tbody>\n",
       "</table>\n",
       "</div>"
      ],
      "text/plain": [
       "   age  gender     region marital_status  number_of_dependants bmi_category  \\\n",
       "0   26    Male  Northwest      Unmarried                     0       Normal   \n",
       "1   29  Female  Southeast        Married                     2      Obesity   \n",
       "\n",
       "  smoking_status employment_status income_level  income_lakhs medical_history  \\\n",
       "0     No Smoking          Salaried         <10L             6        Diabetes   \n",
       "1        Regular          Salaried         <10L             6        Diabetes   \n",
       "\n",
       "  insurance_plan  annual_premium_amount  \n",
       "0         Bronze                   9053  \n",
       "1         Bronze                  16339  "
      ]
     },
     "execution_count": 26,
     "metadata": {},
     "output_type": "execute_result"
    }
   ],
   "source": [
    "df2.head(2)"
   ]
  }
 ],
 "metadata": {
  "kernelspec": {
   "display_name": "statisticalML",
   "language": "python",
   "name": "python3"
  },
  "language_info": {
   "codemirror_mode": {
    "name": "ipython",
    "version": 3
   },
   "file_extension": ".py",
   "mimetype": "text/x-python",
   "name": "python",
   "nbconvert_exporter": "python",
   "pygments_lexer": "ipython3",
   "version": "3.11.13"
  }
 },
 "nbformat": 4,
 "nbformat_minor": 5
}
